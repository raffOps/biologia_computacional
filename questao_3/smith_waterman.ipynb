{
 "cells": [
  {
   "cell_type": "code",
   "execution_count": 1,
   "id": "d1174093",
   "metadata": {},
   "outputs": [
    {
     "name": "stdout",
     "output_type": "stream",
     "text": [
      "Requirement already satisfied: numpy in /opt/conda/lib/python3.9/site-packages (1.21.5)\r\n"
     ]
    }
   ],
   "source": [
    "!pip install numpy\n",
    "import numpy as np"
   ]
  },
  {
   "cell_type": "code",
   "execution_count": 2,
   "id": "ed02835a",
   "metadata": {},
   "outputs": [],
   "source": [
    "def parse_sample(sample_name: str) -> str:\n",
    "    sample = open(f\"samples/{sample_name}.txt\")\n",
    "    parsed_sample = sample.read().replace(\"\\n\", \"\")\n",
    "    return parsed_sample"
   ]
  },
  {
   "cell_type": "markdown",
   "id": "7f6e233d",
   "metadata": {},
   "source": [
    "## Questão 3-a)  Implemente o algoritmo de Smith-Waterman para alinhamento Local"
   ]
  },
  {
   "cell_type": "code",
   "execution_count": 3,
   "id": "26804a69",
   "metadata": {},
   "outputs": [],
   "source": [
    "def smith_waterman(sample1, sample2, match=2, mismatch=-2, gap=-3) -> tuple[int, np.ndarray]:\n",
    "    matrix = np.zeros([len(sample2)+1, len(sample1)+1], int)\n",
    "    for i in range(1, matrix.shape[0]):\n",
    "        for j in range(1, matrix.shape[1]):\n",
    "            matrix[i, j] = max( 0,\n",
    "                                matrix[i-1, j-1] + \n",
    "                                    (match if sample2[i-1] == sample1[j-1] \n",
    "                                     else mismatch),\n",
    "                                matrix[i-1, j] + gap,\n",
    "                                matrix[i, j-1] + gap\n",
    "                              )\n",
    "    \n",
    "    return matrix.max(), matrix\n",
    "    "
   ]
  },
  {
   "cell_type": "markdown",
   "id": "250a9313",
   "metadata": {},
   "source": [
    "## Backtracking"
   ]
  },
  {
   "cell_type": "code",
   "execution_count": 4,
   "id": "42209693",
   "metadata": {},
   "outputs": [],
   "source": [
    "def get_backtracking(sample1: list[str], sample: list[str], matrix: np.ndarray) -> list[list[str]]:\n",
    "    sample1_aligned = []\n",
    "    sample2_aligned = []\n",
    "    match_mismatch = []\n",
    "    i, j = i, j = np.unravel_index(matrix.argmax(), matrix.shape)\n",
    "    direcao = []\n",
    "    while True:\n",
    "        if matrix[i, j] == 0:\n",
    "            break\n",
    "        elif i > 0 and j > 0:\n",
    "            upper = matrix[i-1, j]\n",
    "            diagonal = matrix[i-1, j-1]\n",
    "            left = matrix[i, j-1]\n",
    "\n",
    "            if sample1[j-1] == sample2[i-1]:\n",
    "                sample1_aligned.insert(0, sample1[j-1])\n",
    "                sample2_aligned.insert(0, sample2[i-1])\n",
    "                match_mismatch.insert(0, \"*\")\n",
    "\n",
    "                i -= 1\n",
    "                j -= 1\n",
    "\n",
    "                #print(f\"caso 0 esquerda:{left} cima:{upper} diagonal: {diagonal}   direcao: diagonal\")\n",
    "\n",
    "            elif  (diagonal >= left and diagonal >= upper):\n",
    "                sample1_aligned.insert(0, sample1[j-1])\n",
    "                sample2_aligned.insert(0, sample2[i-1])\n",
    "                match_mismatch.insert(0, \"|\")\n",
    "\n",
    "                i -= 1\n",
    "                j -= 1\n",
    "\n",
    "                #print(f\"caso 1 esquerda:{left} cima:{upper} diagonal: {diagonal}   direcao: diagonal\")\n",
    "\n",
    "\n",
    "            elif (left > diagonal and left > upper):\n",
    "                sample1_aligned.insert(0, sample1[j-1])\n",
    "                sample2_aligned.insert(0, \"-\")\n",
    "                match_mismatch.insert(0, \" \")\n",
    "\n",
    "                j -= 1\n",
    "                #print(f\"caso 2 esquerda:{left} cima:{upper} diagonal: {diagonal}   direcao: esquerda\")\n",
    "\n",
    "            else:\n",
    "                sample1_aligned.insert(0, \"-\")\n",
    "                sample2_aligned.insert(0, sample2[i-1])\n",
    "                match_mismatch.insert(0, \" \")\n",
    "\n",
    "                i -= 1\n",
    "                direcao.append(\"U\")\n",
    "\n",
    "                #print(f\"caso 3 esquerda:{left} cima:{upper} diagonal: {diagonal}   direcao: cima\")\n",
    "\n",
    "        else:\n",
    "            break\n",
    "            \n",
    "            \n",
    "    return sample1_aligned, match_mismatch, sample2_aligned"
   ]
  },
  {
   "cell_type": "markdown",
   "id": "ecd2aa0d",
   "metadata": {},
   "source": [
    "## Questão 3-b e 3-c"
   ]
  },
  {
   "cell_type": "code",
   "execution_count": 5,
   "id": "eb3412b8",
   "metadata": {},
   "outputs": [
    {
     "name": "stdout",
     "output_type": "stream",
     "text": [
      "Amostra 1: bacillus_lentus | Amostra 2: bacillus_halodurans | Score: 85 | Identidade: 67%\n",
      "\n",
      "AHNRGLTGSGVKVAVLDTGISTHPDLNIRGGASFVPGEPSTQDGNGHGTHVAGTIAALNNSIGVLGVAPSAELYAVKVLGASGSGSVSSIAQGLEWAGNNGMHVANLSLGSPSPSATLEQAVNSATSRGVLVVAASGNSGAGSISYPARYANAMAVGATDQNNNRASFSQYGAGLDIVAPGVNVQSTYPGSTYASLNGTSMATPHVAGAAALVKQKNPSWSNVQIRNHLKNTATSLGSTNLYGSGLV\n",
      "\n",
      "*****||*|*||********||****|*|*****|||***||*|***************************|*******|||****||*|***|***|**|**||*|****|*|*|***|***|*|||*|*|*|*|**|*|||||*****|||***|*|***||*****|**||||*|******|***|*||*|**|***********|*****|||**||*|***|||||***|***||***|***\n",
      "\n",
      "AHNRGIFGNGARVAVLDTGIASHPDLRIAGGASFISSEPSYHDNNGHGTHVAGTIAALNNSIGVLGVAPSADLYAVKVLDRNGSGSLASVAQGIEWAINNNMHIINMSLGSTSGSSTLELAVNRANNAGILLVGAAGNTGRQGVNYPARYSGVMAVAAVDQNGQRASFSTYGPEIEISAPGVNVNSTYTGNRYVSLSGTSMATPHVAGVAALVKSRYPSYTNNQIRQRINQTATYLGSPSLYGNGLV\n",
      "\n"
     ]
    }
   ],
   "source": [
    "sample1_name = \"bacillus_lentus\"\n",
    "sample2_name = \"bacillus_halodurans\"\n",
    "\n",
    "sample1 = parse_sample(sample1_name)\n",
    "sample2 = parse_sample(sample2_name)\n",
    "\n",
    "score, matrix = smith_waterman(sample1, sample2, gap=-2, match=1, mismatch=-1)\n",
    "    \n",
    "sample1_aligned, match_mismatch, sample2_aligned = get_backtracking(sample1, sample2, matrix)\n",
    "    \n",
    "identity = int(match_mismatch.count(\"*\") / len(match_mismatch) * 100)\n",
    "print(f\"Amostra 1: {sample1_name} | Amostra 2: {sample2_name} | Score: {score} | Identidade: {identity}%\\n\")\n",
    "    \n",
    "    \n",
    "print(''.join(sample1_aligned), end=\"\\n\\n\")\n",
    "print(''.join(match_mismatch), end=\"\\n\\n\")\n",
    "print(''.join(sample2_aligned), end=\"\\n\\n\")\n",
    "        "
   ]
  },
  {
   "cell_type": "code",
   "execution_count": null,
   "id": "293b1e56",
   "metadata": {},
   "outputs": [],
   "source": []
  }
 ],
 "metadata": {
  "kernelspec": {
   "display_name": "Python 3 (ipykernel)",
   "language": "python",
   "name": "python3"
  },
  "language_info": {
   "codemirror_mode": {
    "name": "ipython",
    "version": 3
   },
   "file_extension": ".py",
   "mimetype": "text/x-python",
   "name": "python",
   "nbconvert_exporter": "python",
   "pygments_lexer": "ipython3",
   "version": "3.9.10"
  }
 },
 "nbformat": 4,
 "nbformat_minor": 5
}
