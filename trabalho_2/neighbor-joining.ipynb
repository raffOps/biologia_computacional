{
 "cells": [
  {
   "cell_type": "code",
   "execution_count": 118,
   "id": "d8338826",
   "metadata": {},
   "outputs": [
    {
     "name": "stdout",
     "output_type": "stream",
     "text": [
      "Requirement already satisfied: pandas in /opt/conda/lib/python3.9/site-packages (1.4.1)\n",
      "Requirement already satisfied: python-dateutil>=2.8.1 in /opt/conda/lib/python3.9/site-packages (from pandas) (2.8.2)\n",
      "Requirement already satisfied: pytz>=2020.1 in /opt/conda/lib/python3.9/site-packages (from pandas) (2021.3)\n",
      "Requirement already satisfied: numpy>=1.18.5 in /opt/conda/lib/python3.9/site-packages (from pandas) (1.21.5)\n",
      "Requirement already satisfied: six>=1.5 in /opt/conda/lib/python3.9/site-packages (from python-dateutil>=2.8.1->pandas) (1.16.0)\n"
     ]
    }
   ],
   "source": [
    "!pip install pandas"
   ]
  },
  {
   "cell_type": "code",
   "execution_count": 119,
   "id": "014d45d9",
   "metadata": {},
   "outputs": [],
   "source": [
    "import pandas as pd\n",
    "import numpy as np\n",
    "import string\n",
    "\n",
    "np.set_printoptions(precision=3)"
   ]
  },
  {
   "cell_type": "code",
   "execution_count": 120,
   "id": "9c208f03",
   "metadata": {},
   "outputs": [],
   "source": [
    "def load_distance_matrix(file_name: str) -> np.ndarray:\n",
    "    sample = np.loadtxt(file_name)\n",
    "    index = [chr(65 + i) for i in range(sample.shape[0])]\n",
    "    sample = sample[1:, :-1]\n",
    "    return pd.DataFrame(sample, index=index[1:], columns=index[:-1])\n",
    "\n",
    "def get_argmin_value(matrix: np.ndarray) -> tuple[int, int]:\n",
    "    return tuple(np.argwhere(matrix == np.min(matrix))[0])\n",
    "\n",
    "\n",
    "def init_index_dict(len_: int) -> list[str]:\n",
    "    index_dict = [chr(65 + i) for i in range(len_)]\n",
    "    return index_dict\n",
    "\n",
    "\n",
    "def get_u_mean_distances(distance_matrix: np.ndarray) -> np.array:\n",
    "    u_mean_distances = []\n",
    "    for i in range(distance_matrix.shape[0]):\n",
    "        u_mean_distances.append(distance_matrix.values[:, i].mean())\n",
    "    u_mean_distances = np.array(u_mean_distances)\n",
    "    return u_mean_distances\n",
    "\n",
    "\n",
    "def get_pairs_distance(distance_matrix: np.ndarray, u_mean_distances: np.array) -> np.ndarray:\n",
    "    pairs_distance = np.zeros(distance_matrix.shape)\n",
    "    for i in range(distance_matrix.shape[0]):\n",
    "        for j in range(i + 1, distance_matrix.shape[1]):\n",
    "            pairs_distance[i, j] = distance_matrix.values[i, j] - u_mean_distances[i] - u_mean_distances[j]\n",
    "    pairs_distance = pairs_distance.transpose()\n",
    "    return pairs_distance\n",
    "\n",
    "\n",
    "def get_distance_from_smallest_pair_to_new_node(distance_matrix: np.ndarray,\n",
    "                                                u_mean_distances: np.array,\n",
    "                                                smallest_pair: tuple[int, int]) -> tuple[int, int]:\n",
    "    d0 = distance_matrix.values[smallest_pair] / 2 + (\n",
    "                u_mean_distances[smallest_pair[0]] - u_mean_distances[smallest_pair[1]]) / 2\n",
    "\n",
    "    d1 = distance_matrix.values[smallest_pair] / 2 + (\n",
    "                u_mean_distances[smallest_pair[1]] - u_mean_distances[smallest_pair[0]]) / 2\n",
    "    return d0, d1\n",
    "\n",
    "\n",
    "\n",
    "def get_new_values(distance_matrix: np.ndarray,\n",
    "                   smallest_pair: tuple[int, int],\n",
    "                   pairs_distance: np.ndarray) -> tuple[list[float], list[float]]:\n",
    "\n",
    "    new_row = []\n",
    "    for i in range(distance_matrix.shape[1]):\n",
    "        if i not in smallest_pair:\n",
    "            new_value = (distance_matrix.values[i, smallest_pair[0]] + distance_matrix.values[i, smallest_pair[1]] -\n",
    "                         pairs_distance[smallest_pair]) / 2\n",
    "            new_row.append(new_value)\n",
    "\n",
    "    new_column = []\n",
    "    for i in range(distance_matrix.shape[0]):\n",
    "        if i not in smallest_pair:\n",
    "            new_value = (distance_matrix.values[i, smallest_pair[0]] + distance_matrix.values[i, smallest_pair[1]] -\n",
    "                         pairs_distance[smallest_pair]) / 2\n",
    "            new_column.append(new_value)\n",
    "\n",
    "    return new_row, new_column\n",
    "\n",
    "\n",
    "def get_new_distance_matrix(distance_matrix: np.ndarray,\n",
    "                            smallest_pair: tuple[int, int],\n",
    "                            new_row: list[int],\n",
    "                            new_column: list[int],\n",
    "                            iteration: int) -> np.ndarray:\n",
    "    rows_columnns_to_remove = [distance_matrix.index[smallest_pair[0]],\n",
    "                               distance_matrix.columns[smallest_pair[1]]]\n",
    "\n",
    "    distance_matrix.drop(index=rows_columnns_to_remove,\n",
    "                         errors=\"ignore\",\n",
    "                         inplace=True)\n",
    "\n",
    "    distance_matrix.drop(columns=rows_columnns_to_remove,\n",
    "                         errors=\"ignore\",\n",
    "                         inplace=True)\n",
    "\n",
    "    distance_matrix[f\"U{iteration}\"] = new_column\n",
    "\n",
    "    new_row.append(0)\n",
    "    distance_matrix.loc[f\"U{iteration}\"] = new_row\n",
    "\n",
    "    return distance_matrix\n"
   ]
  },
  {
   "cell_type": "code",
   "execution_count": 121,
   "id": "b65dc832",
   "metadata": {},
   "outputs": [],
   "source": [
    "def main():\n",
    "    distance_matrix = load_distance_matrix(\"input.txt\")\n",
    "    nick_tree = []\n",
    "    rows, columns = distance_matrix.shape\n",
    "    \n",
    "    for iteration in range(columns - 1):\n",
    "        print(distance_matrix)\n",
    "        u_mean_distances = get_u_mean_distances(distance_matrix)\n",
    "        pairs_distance = get_pairs_distance(distance_matrix, u_mean_distances)\n",
    "        smallest_pair = get_argmin_value(pairs_distance)\n",
    "        d0, d1 = get_distance_from_smallest_pair_to_new_node(distance_matrix,\n",
    "                                                             u_mean_distances,\n",
    "                                                             smallest_pair)\n",
    "        nick_tree.append((f\"U{iteration}\", distance_matrix.index[smallest_pair[0]], d0))\n",
    "        nick_tree.append((f\"U{iteration}\", distance_matrix.columns[smallest_pair[1]], d1))\n",
    "        new_row, new_column = get_new_values(distance_matrix,\n",
    "                                    smallest_pair,\n",
    "                                    pairs_distance)\n",
    "    \n",
    "        # break\n",
    "        distance_matrix = get_new_distance_matrix(distance_matrix,\n",
    "                                                  smallest_pair,\n",
    "                                                  new_row,\n",
    "                                                  new_column,\n",
    "                                                  iteration)\n",
    "        rows, columns = distance_matrix.shape\n",
    "        print(\"*\" * 80)"
   ]
  },
  {
   "cell_type": "code",
   "execution_count": 122,
   "id": "2a4c811a",
   "metadata": {},
   "outputs": [
    {
     "name": "stdout",
     "output_type": "stream",
     "text": [
      "          A         B         C         D         E         F         G\n",
      "B  2.226662  0.000000  1.156708  0.914018  1.380749  4.450111  3.885507\n",
      "C  3.335384  1.156708  0.000000  1.819830  2.489471  5.558833  4.994230\n",
      "D  3.092694  0.914018  1.819830  0.000000  2.246781  5.316143  4.751540\n",
      "E  1.889630  1.380749  2.489471  2.246781  0.000000  3.347123  2.782520\n",
      "F  4.958991  4.450111  5.558833  5.316143  3.347123  0.000000  1.196623\n",
      "G  4.394388  3.885507  4.994230  4.751540  2.782520  1.196623  0.000000\n",
      "H  5.412214  4.903333  6.012055  5.769365  3.800346  2.214449  1.217620\n",
      "********************************************************************************\n",
      "           A         B         D         F         G        U0\n",
      "B   2.226662  0.000000  0.914018  4.450111  3.885507  4.095991\n",
      "D   3.092694  0.914018  0.000000  5.316143  4.751540  3.970543\n",
      "F   4.958991  4.450111  5.316143  0.000000  1.196623  8.498116\n",
      "G   4.394388  3.885507  4.751540  1.196623  0.000000  7.933513\n",
      "H   5.412214  4.903333  5.769365  2.214449  1.217620  8.951339\n",
      "U0  4.095991  3.970543  8.498116  7.933513  8.951339  0.000000\n",
      "********************************************************************************\n",
      "           A         B         F         U0         U1\n",
      "B   2.226662  0.000000  4.450111   4.095991   6.545399\n",
      "F   4.958991  4.450111  0.000000   8.498116   6.521406\n",
      "H   5.412214  4.903333  2.214449   8.951339   7.855242\n",
      "U0  4.095991  3.970543  7.933513   0.000000  12.079150\n",
      "U1  6.545399  6.521406  7.855242  12.079150   0.000000\n"
     ]
    },
    {
     "ename": "ValueError",
     "evalue": "Length of values (3) does not match length of index (4)",
     "output_type": "error",
     "traceback": [
      "\u001b[0;31m---------------------------------------------------------------------------\u001b[0m",
      "\u001b[0;31mValueError\u001b[0m                                Traceback (most recent call last)",
      "Input \u001b[0;32mIn [122]\u001b[0m, in \u001b[0;36m<cell line: 1>\u001b[0;34m()\u001b[0m\n\u001b[0;32m----> 1\u001b[0m \u001b[43mmain\u001b[49m\u001b[43m(\u001b[49m\u001b[43m)\u001b[49m\n",
      "Input \u001b[0;32mIn [121]\u001b[0m, in \u001b[0;36mmain\u001b[0;34m()\u001b[0m\n\u001b[1;32m     16\u001b[0m new_row, new_column \u001b[38;5;241m=\u001b[39m get_new_values(distance_matrix,\n\u001b[1;32m     17\u001b[0m                             smallest_pair,\n\u001b[1;32m     18\u001b[0m                             pairs_distance)\n\u001b[1;32m     20\u001b[0m \u001b[38;5;66;03m# break\u001b[39;00m\n\u001b[0;32m---> 21\u001b[0m distance_matrix \u001b[38;5;241m=\u001b[39m \u001b[43mget_new_distance_matrix\u001b[49m\u001b[43m(\u001b[49m\u001b[43mdistance_matrix\u001b[49m\u001b[43m,\u001b[49m\n\u001b[1;32m     22\u001b[0m \u001b[43m                                          \u001b[49m\u001b[43msmallest_pair\u001b[49m\u001b[43m,\u001b[49m\n\u001b[1;32m     23\u001b[0m \u001b[43m                                          \u001b[49m\u001b[43mnew_row\u001b[49m\u001b[43m,\u001b[49m\n\u001b[1;32m     24\u001b[0m \u001b[43m                                          \u001b[49m\u001b[43mnew_column\u001b[49m\u001b[43m,\u001b[49m\n\u001b[1;32m     25\u001b[0m \u001b[43m                                          \u001b[49m\u001b[43miteration\u001b[49m\u001b[43m)\u001b[49m\n\u001b[1;32m     26\u001b[0m rows, columns \u001b[38;5;241m=\u001b[39m distance_matrix\u001b[38;5;241m.\u001b[39mshape\n\u001b[1;32m     27\u001b[0m \u001b[38;5;28mprint\u001b[39m(\u001b[38;5;124m\"\u001b[39m\u001b[38;5;124m*\u001b[39m\u001b[38;5;124m\"\u001b[39m \u001b[38;5;241m*\u001b[39m \u001b[38;5;241m80\u001b[39m)\n",
      "Input \u001b[0;32mIn [120]\u001b[0m, in \u001b[0;36mget_new_distance_matrix\u001b[0;34m(distance_matrix, smallest_pair, new_row, new_column, iteration)\u001b[0m\n\u001b[1;32m     74\u001b[0m distance_matrix\u001b[38;5;241m.\u001b[39mdrop(index\u001b[38;5;241m=\u001b[39mrows_columnns_to_remove,\n\u001b[1;32m     75\u001b[0m                      errors\u001b[38;5;241m=\u001b[39m\u001b[38;5;124m\"\u001b[39m\u001b[38;5;124mignore\u001b[39m\u001b[38;5;124m\"\u001b[39m,\n\u001b[1;32m     76\u001b[0m                      inplace\u001b[38;5;241m=\u001b[39m\u001b[38;5;28;01mTrue\u001b[39;00m)\n\u001b[1;32m     78\u001b[0m distance_matrix\u001b[38;5;241m.\u001b[39mdrop(columns\u001b[38;5;241m=\u001b[39mrows_columnns_to_remove,\n\u001b[1;32m     79\u001b[0m                      errors\u001b[38;5;241m=\u001b[39m\u001b[38;5;124m\"\u001b[39m\u001b[38;5;124mignore\u001b[39m\u001b[38;5;124m\"\u001b[39m,\n\u001b[1;32m     80\u001b[0m                      inplace\u001b[38;5;241m=\u001b[39m\u001b[38;5;28;01mTrue\u001b[39;00m)\n\u001b[0;32m---> 82\u001b[0m distance_matrix[\u001b[38;5;124mf\u001b[39m\u001b[38;5;124m\"\u001b[39m\u001b[38;5;124mU\u001b[39m\u001b[38;5;132;01m{\u001b[39;00miteration\u001b[38;5;132;01m}\u001b[39;00m\u001b[38;5;124m\"\u001b[39m] \u001b[38;5;241m=\u001b[39m new_column\n\u001b[1;32m     84\u001b[0m new_row\u001b[38;5;241m.\u001b[39mappend(\u001b[38;5;241m0\u001b[39m)\n\u001b[1;32m     85\u001b[0m distance_matrix\u001b[38;5;241m.\u001b[39mloc[\u001b[38;5;124mf\u001b[39m\u001b[38;5;124m\"\u001b[39m\u001b[38;5;124mU\u001b[39m\u001b[38;5;132;01m{\u001b[39;00miteration\u001b[38;5;132;01m}\u001b[39;00m\u001b[38;5;124m\"\u001b[39m] \u001b[38;5;241m=\u001b[39m new_row\n",
      "File \u001b[0;32m/opt/conda/lib/python3.9/site-packages/pandas/core/frame.py:3655\u001b[0m, in \u001b[0;36mDataFrame.__setitem__\u001b[0;34m(self, key, value)\u001b[0m\n\u001b[1;32m   3652\u001b[0m     \u001b[38;5;28mself\u001b[39m\u001b[38;5;241m.\u001b[39m_setitem_array([key], value)\n\u001b[1;32m   3653\u001b[0m \u001b[38;5;28;01melse\u001b[39;00m:\n\u001b[1;32m   3654\u001b[0m     \u001b[38;5;66;03m# set column\u001b[39;00m\n\u001b[0;32m-> 3655\u001b[0m     \u001b[38;5;28;43mself\u001b[39;49m\u001b[38;5;241;43m.\u001b[39;49m\u001b[43m_set_item\u001b[49m\u001b[43m(\u001b[49m\u001b[43mkey\u001b[49m\u001b[43m,\u001b[49m\u001b[43m \u001b[49m\u001b[43mvalue\u001b[49m\u001b[43m)\u001b[49m\n",
      "File \u001b[0;32m/opt/conda/lib/python3.9/site-packages/pandas/core/frame.py:3832\u001b[0m, in \u001b[0;36mDataFrame._set_item\u001b[0;34m(self, key, value)\u001b[0m\n\u001b[1;32m   3822\u001b[0m \u001b[38;5;28;01mdef\u001b[39;00m \u001b[38;5;21m_set_item\u001b[39m(\u001b[38;5;28mself\u001b[39m, key, value) \u001b[38;5;241m-\u001b[39m\u001b[38;5;241m>\u001b[39m \u001b[38;5;28;01mNone\u001b[39;00m:\n\u001b[1;32m   3823\u001b[0m     \u001b[38;5;124;03m\"\"\"\u001b[39;00m\n\u001b[1;32m   3824\u001b[0m \u001b[38;5;124;03m    Add series to DataFrame in specified column.\u001b[39;00m\n\u001b[1;32m   3825\u001b[0m \n\u001b[0;32m   (...)\u001b[0m\n\u001b[1;32m   3830\u001b[0m \u001b[38;5;124;03m    ensure homogeneity.\u001b[39;00m\n\u001b[1;32m   3831\u001b[0m \u001b[38;5;124;03m    \"\"\"\u001b[39;00m\n\u001b[0;32m-> 3832\u001b[0m     value \u001b[38;5;241m=\u001b[39m \u001b[38;5;28;43mself\u001b[39;49m\u001b[38;5;241;43m.\u001b[39;49m\u001b[43m_sanitize_column\u001b[49m\u001b[43m(\u001b[49m\u001b[43mvalue\u001b[49m\u001b[43m)\u001b[49m\n\u001b[1;32m   3834\u001b[0m     \u001b[38;5;28;01mif\u001b[39;00m (\n\u001b[1;32m   3835\u001b[0m         key \u001b[38;5;129;01min\u001b[39;00m \u001b[38;5;28mself\u001b[39m\u001b[38;5;241m.\u001b[39mcolumns\n\u001b[1;32m   3836\u001b[0m         \u001b[38;5;129;01mand\u001b[39;00m value\u001b[38;5;241m.\u001b[39mndim \u001b[38;5;241m==\u001b[39m \u001b[38;5;241m1\u001b[39m\n\u001b[1;32m   3837\u001b[0m         \u001b[38;5;129;01mand\u001b[39;00m \u001b[38;5;129;01mnot\u001b[39;00m is_extension_array_dtype(value)\n\u001b[1;32m   3838\u001b[0m     ):\n\u001b[1;32m   3839\u001b[0m         \u001b[38;5;66;03m# broadcast across multiple columns if necessary\u001b[39;00m\n\u001b[1;32m   3840\u001b[0m         \u001b[38;5;28;01mif\u001b[39;00m \u001b[38;5;129;01mnot\u001b[39;00m \u001b[38;5;28mself\u001b[39m\u001b[38;5;241m.\u001b[39mcolumns\u001b[38;5;241m.\u001b[39mis_unique \u001b[38;5;129;01mor\u001b[39;00m \u001b[38;5;28misinstance\u001b[39m(\u001b[38;5;28mself\u001b[39m\u001b[38;5;241m.\u001b[39mcolumns, MultiIndex):\n",
      "File \u001b[0;32m/opt/conda/lib/python3.9/site-packages/pandas/core/frame.py:4529\u001b[0m, in \u001b[0;36mDataFrame._sanitize_column\u001b[0;34m(self, value)\u001b[0m\n\u001b[1;32m   4526\u001b[0m     \u001b[38;5;28;01mreturn\u001b[39;00m _reindex_for_setitem(value, \u001b[38;5;28mself\u001b[39m\u001b[38;5;241m.\u001b[39mindex)\n\u001b[1;32m   4528\u001b[0m \u001b[38;5;28;01mif\u001b[39;00m is_list_like(value):\n\u001b[0;32m-> 4529\u001b[0m     \u001b[43mcom\u001b[49m\u001b[38;5;241;43m.\u001b[39;49m\u001b[43mrequire_length_match\u001b[49m\u001b[43m(\u001b[49m\u001b[43mvalue\u001b[49m\u001b[43m,\u001b[49m\u001b[43m \u001b[49m\u001b[38;5;28;43mself\u001b[39;49m\u001b[38;5;241;43m.\u001b[39;49m\u001b[43mindex\u001b[49m\u001b[43m)\u001b[49m\n\u001b[1;32m   4530\u001b[0m \u001b[38;5;28;01mreturn\u001b[39;00m sanitize_array(value, \u001b[38;5;28mself\u001b[39m\u001b[38;5;241m.\u001b[39mindex, copy\u001b[38;5;241m=\u001b[39m\u001b[38;5;28;01mTrue\u001b[39;00m, allow_2d\u001b[38;5;241m=\u001b[39m\u001b[38;5;28;01mTrue\u001b[39;00m)\n",
      "File \u001b[0;32m/opt/conda/lib/python3.9/site-packages/pandas/core/common.py:557\u001b[0m, in \u001b[0;36mrequire_length_match\u001b[0;34m(data, index)\u001b[0m\n\u001b[1;32m    553\u001b[0m \u001b[38;5;124;03m\"\"\"\u001b[39;00m\n\u001b[1;32m    554\u001b[0m \u001b[38;5;124;03mCheck the length of data matches the length of the index.\u001b[39;00m\n\u001b[1;32m    555\u001b[0m \u001b[38;5;124;03m\"\"\"\u001b[39;00m\n\u001b[1;32m    556\u001b[0m \u001b[38;5;28;01mif\u001b[39;00m \u001b[38;5;28mlen\u001b[39m(data) \u001b[38;5;241m!=\u001b[39m \u001b[38;5;28mlen\u001b[39m(index):\n\u001b[0;32m--> 557\u001b[0m     \u001b[38;5;28;01mraise\u001b[39;00m \u001b[38;5;167;01mValueError\u001b[39;00m(\n\u001b[1;32m    558\u001b[0m         \u001b[38;5;124m\"\u001b[39m\u001b[38;5;124mLength of values \u001b[39m\u001b[38;5;124m\"\u001b[39m\n\u001b[1;32m    559\u001b[0m         \u001b[38;5;124mf\u001b[39m\u001b[38;5;124m\"\u001b[39m\u001b[38;5;124m(\u001b[39m\u001b[38;5;132;01m{\u001b[39;00m\u001b[38;5;28mlen\u001b[39m(data)\u001b[38;5;132;01m}\u001b[39;00m\u001b[38;5;124m) \u001b[39m\u001b[38;5;124m\"\u001b[39m\n\u001b[1;32m    560\u001b[0m         \u001b[38;5;124m\"\u001b[39m\u001b[38;5;124mdoes not match length of index \u001b[39m\u001b[38;5;124m\"\u001b[39m\n\u001b[1;32m    561\u001b[0m         \u001b[38;5;124mf\u001b[39m\u001b[38;5;124m\"\u001b[39m\u001b[38;5;124m(\u001b[39m\u001b[38;5;132;01m{\u001b[39;00m\u001b[38;5;28mlen\u001b[39m(index)\u001b[38;5;132;01m}\u001b[39;00m\u001b[38;5;124m)\u001b[39m\u001b[38;5;124m\"\u001b[39m\n\u001b[1;32m    562\u001b[0m     )\n",
      "\u001b[0;31mValueError\u001b[0m: Length of values (3) does not match length of index (4)"
     ]
    }
   ],
   "source": [
    "main()"
   ]
  },
  {
   "cell_type": "code",
   "execution_count": null,
   "id": "c87bd82f",
   "metadata": {},
   "outputs": [],
   "source": []
  }
 ],
 "metadata": {
  "kernelspec": {
   "display_name": "Python 3 (ipykernel)",
   "language": "python",
   "name": "python3"
  },
  "language_info": {
   "codemirror_mode": {
    "name": "ipython",
    "version": 3
   },
   "file_extension": ".py",
   "mimetype": "text/x-python",
   "name": "python",
   "nbconvert_exporter": "python",
   "pygments_lexer": "ipython3",
   "version": "3.9.10"
  }
 },
 "nbformat": 4,
 "nbformat_minor": 5
}
