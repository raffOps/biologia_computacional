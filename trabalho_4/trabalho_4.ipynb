{
 "cells": [
  {
   "cell_type": "code",
   "execution_count": 1,
   "id": "fa6433f0",
   "metadata": {
    "pycharm": {
     "name": "#%%\n"
    }
   },
   "outputs": [
    {
     "name": "stdout",
     "output_type": "stream",
     "text": [
      "Requirement already satisfied: pandas in /opt/conda/lib/python3.9/site-packages (1.4.2)\n",
      "Requirement already satisfied: python-dateutil>=2.8.1 in /opt/conda/lib/python3.9/site-packages (from pandas) (2.8.2)\n",
      "Requirement already satisfied: pytz>=2020.1 in /opt/conda/lib/python3.9/site-packages (from pandas) (2022.1)\n",
      "Requirement already satisfied: numpy>=1.18.5 in /opt/conda/lib/python3.9/site-packages (from pandas) (1.21.6)\n",
      "Requirement already satisfied: six>=1.5 in /opt/conda/lib/python3.9/site-packages (from python-dateutil>=2.8.1->pandas) (1.16.0)\n",
      "Requirement already satisfied: scikit-learn in /opt/conda/lib/python3.9/site-packages (1.0.2)\n",
      "Requirement already satisfied: threadpoolctl>=2.0.0 in /opt/conda/lib/python3.9/site-packages (from scikit-learn) (3.1.0)\n",
      "Requirement already satisfied: joblib>=0.11 in /opt/conda/lib/python3.9/site-packages (from scikit-learn) (1.1.0)\n",
      "Requirement already satisfied: numpy>=1.14.6 in /opt/conda/lib/python3.9/site-packages (from scikit-learn) (1.21.6)\n",
      "Requirement already satisfied: scipy>=1.1.0 in /opt/conda/lib/python3.9/site-packages (from scikit-learn) (1.8.0)\n"
     ]
    }
   ],
   "source": [
    "!pip install pandas\n",
    "!pip install scikit-learn"
   ]
  },
  {
   "cell_type": "code",
   "execution_count": 2,
   "id": "62397df1",
   "metadata": {
    "pycharm": {
     "name": "#%%\n"
    }
   },
   "outputs": [],
   "source": [
    "from collections import Counter\n",
    "\n",
    "import pandas as pd\n",
    "from sklearn.preprocessing import LabelEncoder, StandardScaler\n",
    "from sklearn.model_selection import train_test_split\n",
    "from sklearn.svm import SVC\n",
    "from sklearn.metrics import confusion_matrix, f1_score, accuracy_score, recall_score, precision_score\n",
    "from sklearn.cluster import KMeans"
   ]
  },
  {
   "cell_type": "code",
   "execution_count": 3,
   "id": "56a0c1af",
   "metadata": {
    "pycharm": {
     "name": "#%%\n"
    }
   },
   "outputs": [
    {
     "data": {
      "text/html": [
       "<div>\n",
       "<style scoped>\n",
       "    .dataframe tbody tr th:only-of-type {\n",
       "        vertical-align: middle;\n",
       "    }\n",
       "\n",
       "    .dataframe tbody tr th {\n",
       "        vertical-align: top;\n",
       "    }\n",
       "\n",
       "    .dataframe thead th {\n",
       "        text-align: right;\n",
       "    }\n",
       "</style>\n",
       "<table border=\"1\" class=\"dataframe\">\n",
       "  <thead>\n",
       "    <tr style=\"text-align: right;\">\n",
       "      <th></th>\n",
       "      <th>samples</th>\n",
       "      <th>type</th>\n",
       "      <th>NM_144987</th>\n",
       "      <th>NM_013290</th>\n",
       "      <th>ENST00000322831</th>\n",
       "      <th>NM_001625</th>\n",
       "      <th>lincRNA:chr7:226042-232442_R</th>\n",
       "      <th>NM_032391</th>\n",
       "      <th>ENST00000238571</th>\n",
       "      <th>XR_108906</th>\n",
       "      <th>...</th>\n",
       "      <th>lincRNA:chr4:77860976-77869926_F</th>\n",
       "      <th>NM_152343</th>\n",
       "      <th>NM_001005327</th>\n",
       "      <th>NM_001039355</th>\n",
       "      <th>lincRNA:chr21:44456656-44468556_R</th>\n",
       "      <th>lincRNA:chr9:4869500-4896050_F</th>\n",
       "      <th>NM_016053</th>\n",
       "      <th>NM_001080425</th>\n",
       "      <th>ENST00000555638</th>\n",
       "      <th>ENST00000508993</th>\n",
       "    </tr>\n",
       "  </thead>\n",
       "  <tbody>\n",
       "    <tr>\n",
       "      <th>0</th>\n",
       "      <td>GSM1823702_252800417016_S01_GE1_107_Sep09_1_2</td>\n",
       "      <td>normal</td>\n",
       "      <td>8.693318</td>\n",
       "      <td>7.718016</td>\n",
       "      <td>6.044438</td>\n",
       "      <td>10.747077</td>\n",
       "      <td>9.133777</td>\n",
       "      <td>4.735581</td>\n",
       "      <td>5.634732</td>\n",
       "      <td>4.670231</td>\n",
       "      <td>...</td>\n",
       "      <td>7.570363</td>\n",
       "      <td>6.368684</td>\n",
       "      <td>4.784042</td>\n",
       "      <td>10.747723</td>\n",
       "      <td>5.090500</td>\n",
       "      <td>5.994149</td>\n",
       "      <td>10.649336</td>\n",
       "      <td>8.969439</td>\n",
       "      <td>4.985693</td>\n",
       "      <td>5.090500</td>\n",
       "    </tr>\n",
       "    <tr>\n",
       "      <th>1</th>\n",
       "      <td>GSM1823703_252800417016_S01_GE1_107_Sep09_2_1</td>\n",
       "      <td>normal</td>\n",
       "      <td>9.375980</td>\n",
       "      <td>7.072232</td>\n",
       "      <td>6.976741</td>\n",
       "      <td>10.429671</td>\n",
       "      <td>9.526500</td>\n",
       "      <td>5.221089</td>\n",
       "      <td>5.425187</td>\n",
       "      <td>4.860931</td>\n",
       "      <td>...</td>\n",
       "      <td>7.903335</td>\n",
       "      <td>5.713115</td>\n",
       "      <td>4.421074</td>\n",
       "      <td>11.299200</td>\n",
       "      <td>4.447052</td>\n",
       "      <td>4.421074</td>\n",
       "      <td>10.746854</td>\n",
       "      <td>8.174489</td>\n",
       "      <td>4.464177</td>\n",
       "      <td>4.536891</td>\n",
       "    </tr>\n",
       "    <tr>\n",
       "      <th>2</th>\n",
       "      <td>GSM1823704_252800416877_S01_GE1_107_Sep09_2_3</td>\n",
       "      <td>normal</td>\n",
       "      <td>8.943442</td>\n",
       "      <td>7.964573</td>\n",
       "      <td>6.269055</td>\n",
       "      <td>10.825025</td>\n",
       "      <td>9.396855</td>\n",
       "      <td>5.258506</td>\n",
       "      <td>5.824921</td>\n",
       "      <td>4.964604</td>\n",
       "      <td>...</td>\n",
       "      <td>7.705765</td>\n",
       "      <td>6.595364</td>\n",
       "      <td>4.410870</td>\n",
       "      <td>10.576807</td>\n",
       "      <td>5.003699</td>\n",
       "      <td>6.529257</td>\n",
       "      <td>10.430034</td>\n",
       "      <td>8.473468</td>\n",
       "      <td>4.668447</td>\n",
       "      <td>5.084127</td>\n",
       "    </tr>\n",
       "    <tr>\n",
       "      <th>3</th>\n",
       "      <td>GSM1823705_252800416894_S01_GE1_107_Sep09_1_1</td>\n",
       "      <td>normal</td>\n",
       "      <td>9.020798</td>\n",
       "      <td>7.824639</td>\n",
       "      <td>6.165165</td>\n",
       "      <td>11.646788</td>\n",
       "      <td>8.776462</td>\n",
       "      <td>4.648655</td>\n",
       "      <td>6.676692</td>\n",
       "      <td>4.770186</td>\n",
       "      <td>...</td>\n",
       "      <td>6.633058</td>\n",
       "      <td>5.786781</td>\n",
       "      <td>4.572984</td>\n",
       "      <td>11.175090</td>\n",
       "      <td>4.990888</td>\n",
       "      <td>6.669871</td>\n",
       "      <td>11.110395</td>\n",
       "      <td>8.880818</td>\n",
       "      <td>4.537626</td>\n",
       "      <td>4.648655</td>\n",
       "    </tr>\n",
       "    <tr>\n",
       "      <th>4</th>\n",
       "      <td>GSM1823706_252800416894_S01_GE1_107_Sep09_1_3</td>\n",
       "      <td>normal</td>\n",
       "      <td>8.806154</td>\n",
       "      <td>7.555348</td>\n",
       "      <td>6.230969</td>\n",
       "      <td>11.635247</td>\n",
       "      <td>8.911383</td>\n",
       "      <td>4.518054</td>\n",
       "      <td>6.520691</td>\n",
       "      <td>4.540453</td>\n",
       "      <td>...</td>\n",
       "      <td>6.211581</td>\n",
       "      <td>5.538635</td>\n",
       "      <td>4.613828</td>\n",
       "      <td>12.014365</td>\n",
       "      <td>4.979883</td>\n",
       "      <td>6.414621</td>\n",
       "      <td>10.909805</td>\n",
       "      <td>9.526500</td>\n",
       "      <td>4.670490</td>\n",
       "      <td>4.613828</td>\n",
       "    </tr>\n",
       "  </tbody>\n",
       "</table>\n",
       "<p>5 rows × 35983 columns</p>\n",
       "</div>"
      ],
      "text/plain": [
       "                                         samples    type  NM_144987  \\\n",
       "0  GSM1823702_252800417016_S01_GE1_107_Sep09_1_2  normal   8.693318   \n",
       "1  GSM1823703_252800417016_S01_GE1_107_Sep09_2_1  normal   9.375980   \n",
       "2  GSM1823704_252800416877_S01_GE1_107_Sep09_2_3  normal   8.943442   \n",
       "3  GSM1823705_252800416894_S01_GE1_107_Sep09_1_1  normal   9.020798   \n",
       "4  GSM1823706_252800416894_S01_GE1_107_Sep09_1_3  normal   8.806154   \n",
       "\n",
       "   NM_013290  ENST00000322831  NM_001625  lincRNA:chr7:226042-232442_R  \\\n",
       "0   7.718016         6.044438  10.747077                      9.133777   \n",
       "1   7.072232         6.976741  10.429671                      9.526500   \n",
       "2   7.964573         6.269055  10.825025                      9.396855   \n",
       "3   7.824639         6.165165  11.646788                      8.776462   \n",
       "4   7.555348         6.230969  11.635247                      8.911383   \n",
       "\n",
       "   NM_032391  ENST00000238571  XR_108906  ...  \\\n",
       "0   4.735581         5.634732   4.670231  ...   \n",
       "1   5.221089         5.425187   4.860931  ...   \n",
       "2   5.258506         5.824921   4.964604  ...   \n",
       "3   4.648655         6.676692   4.770186  ...   \n",
       "4   4.518054         6.520691   4.540453  ...   \n",
       "\n",
       "   lincRNA:chr4:77860976-77869926_F  NM_152343  NM_001005327  NM_001039355  \\\n",
       "0                          7.570363   6.368684      4.784042     10.747723   \n",
       "1                          7.903335   5.713115      4.421074     11.299200   \n",
       "2                          7.705765   6.595364      4.410870     10.576807   \n",
       "3                          6.633058   5.786781      4.572984     11.175090   \n",
       "4                          6.211581   5.538635      4.613828     12.014365   \n",
       "\n",
       "   lincRNA:chr21:44456656-44468556_R  lincRNA:chr9:4869500-4896050_F  \\\n",
       "0                           5.090500                        5.994149   \n",
       "1                           4.447052                        4.421074   \n",
       "2                           5.003699                        6.529257   \n",
       "3                           4.990888                        6.669871   \n",
       "4                           4.979883                        6.414621   \n",
       "\n",
       "   NM_016053  NM_001080425  ENST00000555638  ENST00000508993  \n",
       "0  10.649336      8.969439         4.985693         5.090500  \n",
       "1  10.746854      8.174489         4.464177         4.536891  \n",
       "2  10.430034      8.473468         4.668447         5.084127  \n",
       "3  11.110395      8.880818         4.537626         4.648655  \n",
       "4  10.909805      9.526500         4.670490         4.613828  \n",
       "\n",
       "[5 rows x 35983 columns]"
      ]
     },
     "execution_count": 3,
     "metadata": {},
     "output_type": "execute_result"
    }
   ],
   "source": [
    "df = pd.read_csv(\"https://sbcb.inf.ufrgs.br/data/cumida/Genes/Breast/GSE70947/Breast_GSE70947.csv\")\n",
    "df.head()"
   ]
  },
  {
   "cell_type": "markdown",
   "id": "cb400b5e",
   "metadata": {
    "pycharm": {
     "name": "#%% md\n"
    }
   },
   "source": [
    "### a) Realize a normalização do dataset de estudo utilizando o z-score"
   ]
  },
  {
   "cell_type": "code",
   "execution_count": 4,
   "id": "9c2c323b",
   "metadata": {
    "pycharm": {
     "name": "#%%\n"
    }
   },
   "outputs": [
    {
     "data": {
      "text/plain": [
       "array([[-0.29044738,  0.15716683, -0.8408758 , ...,  0.29101254,\n",
       "         0.57661691,  1.16698088],\n",
       "       [ 1.44237276, -0.96712986,  1.08865853, ..., -1.01273948,\n",
       "        -0.75420077, -0.79655215],\n",
       "       [ 0.34444946,  0.58641694, -0.37599821, ..., -0.52240203,\n",
       "        -0.23294027,  1.1443803 ],\n",
       "       ...,\n",
       "       [ 0.61844411,  0.04204796, -1.2523575 , ..., -0.05398532,\n",
       "        -0.51800249, -0.47654098],\n",
       "       [-1.75940706,  0.81641611, -0.19732212, ...,  1.42053716,\n",
       "        -0.62246924, -0.63175092],\n",
       "       [ 0.05034099, -0.15467297, -0.17834283, ...,  1.55371374,\n",
       "         0.49169946,  0.03375616]])"
      ]
     },
     "execution_count": 4,
     "metadata": {},
     "output_type": "execute_result"
    }
   ],
   "source": [
    "sc = StandardScaler()\n",
    "X = sc.fit_transform(df.iloc[:,2:])\n",
    "X"
   ]
  },
  {
   "cell_type": "markdown",
   "id": "722cf059",
   "metadata": {
    "pycharm": {
     "name": "#%% md\n"
    }
   },
   "source": [
    "### b) Realize a divisão do dataset de estudo (resultante da letra 'a') em conjunto de teste e conjunto de treinamento de forma a contemplar o conceito de amostragem estratificada"
   ]
  },
  {
   "cell_type": "code",
   "execution_count": 5,
   "id": "7e0c9cbf",
   "metadata": {
    "pycharm": {
     "name": "#%%\n"
    }
   },
   "outputs": [],
   "source": [
    "le = LabelEncoder()\n",
    "y = le.fit_transform(df.type)"
   ]
  },
  {
   "cell_type": "code",
   "execution_count": 6,
   "id": "775f74a9",
   "metadata": {
    "pycharm": {
     "name": "#%%\n"
    }
   },
   "outputs": [],
   "source": [
    "X_train, X_test, y_train, y_test = train_test_split(X, y, test_size=0.3, stratify=y, random_state=42)"
   ]
  },
  {
   "cell_type": "markdown",
   "id": "b4296412",
   "metadata": {
    "pycharm": {
     "name": "#%% md\n"
    }
   },
   "source": [
    "### c) Fazendo uso de bibliotecas (por exemplo, scikit-learn https://scikit-learn.org/stable) crie um classificador SVM para o dataset de estudo. O treinamento do classificador deve ser realizada com base no grupo de treinamento criado no item 'b'. "
   ]
  },
  {
   "cell_type": "code",
   "execution_count": 7,
   "id": "df7a973f",
   "metadata": {
    "pycharm": {
     "name": "#%%\n"
    }
   },
   "outputs": [],
   "source": [
    "clf = SVC(kernel='linear')"
   ]
  },
  {
   "cell_type": "code",
   "execution_count": 8,
   "id": "b568c730",
   "metadata": {
    "pycharm": {
     "name": "#%%\n"
    }
   },
   "outputs": [],
   "source": [
    "clf.fit(X_train, y_train)\n",
    "y_pred = clf.predict(X_test)"
   ]
  },
  {
   "cell_type": "markdown",
   "id": "5b46f207",
   "metadata": {
    "pycharm": {
     "name": "#%% md\n"
    }
   },
   "source": [
    "### d) A partir criado na letra 'c' e do cojunto de testes, avalie o classificador considerando as seguintes métricas: (i) a matriz de confusão; (ii) a acurácia; (iii) Sensitivity; (iv) Specificity; e (v) F1-score. O valor destas métricas deve ser reportado. Ao analisar as métricas você considera que o classificador teve um desempenho adequado?"
   ]
  },
  {
   "cell_type": "code",
   "execution_count": 9,
   "id": "67242c8a",
   "metadata": {
    "pycharm": {
     "name": "#%%\n"
    }
   },
   "outputs": [
    {
     "data": {
      "text/html": [
       "<div>\n",
       "<style scoped>\n",
       "    .dataframe tbody tr th:only-of-type {\n",
       "        vertical-align: middle;\n",
       "    }\n",
       "\n",
       "    .dataframe tbody tr th {\n",
       "        vertical-align: top;\n",
       "    }\n",
       "\n",
       "    .dataframe thead th {\n",
       "        text-align: right;\n",
       "    }\n",
       "</style>\n",
       "<table border=\"1\" class=\"dataframe\">\n",
       "  <thead>\n",
       "    <tr style=\"text-align: right;\">\n",
       "      <th></th>\n",
       "      <th>breast_adenocarcinoma</th>\n",
       "      <th>normal</th>\n",
       "    </tr>\n",
       "  </thead>\n",
       "  <tbody>\n",
       "    <tr>\n",
       "      <th>breast_adenocarcinoma</th>\n",
       "      <td>37</td>\n",
       "      <td>6</td>\n",
       "    </tr>\n",
       "    <tr>\n",
       "      <th>normal</th>\n",
       "      <td>3</td>\n",
       "      <td>41</td>\n",
       "    </tr>\n",
       "  </tbody>\n",
       "</table>\n",
       "</div>"
      ],
      "text/plain": [
       "                       breast_adenocarcinoma  normal\n",
       "breast_adenocarcinoma                     37       6\n",
       "normal                                     3      41"
      ]
     },
     "execution_count": 9,
     "metadata": {},
     "output_type": "execute_result"
    }
   ],
   "source": [
    "pd.DataFrame(confusion_matrix(y_test, y_pred), index=le.classes_, columns=le.classes_)"
   ]
  },
  {
   "cell_type": "code",
   "execution_count": 10,
   "id": "2347b716",
   "metadata": {
    "pycharm": {
     "name": "#%%\n"
    }
   },
   "outputs": [
    {
     "data": {
      "text/plain": [
       "0.896551724137931"
      ]
     },
     "execution_count": 10,
     "metadata": {},
     "output_type": "execute_result"
    }
   ],
   "source": [
    "accuracy_score(y_test, y_pred)"
   ]
  },
  {
   "cell_type": "code",
   "execution_count": 11,
   "id": "c61a2046",
   "metadata": {
    "pycharm": {
     "name": "#%%\n"
    }
   },
   "outputs": [
    {
     "data": {
      "text/plain": [
       "0.9318181818181818"
      ]
     },
     "execution_count": 11,
     "metadata": {},
     "output_type": "execute_result"
    }
   ],
   "source": [
    "recall_score(y_test, y_pred)"
   ]
  },
  {
   "cell_type": "code",
   "execution_count": 12,
   "id": "771a9f5f",
   "metadata": {
    "pycharm": {
     "name": "#%%\n"
    }
   },
   "outputs": [
    {
     "data": {
      "text/plain": [
       "0.9010989010989012"
      ]
     },
     "execution_count": 12,
     "metadata": {},
     "output_type": "execute_result"
    }
   ],
   "source": [
    "f1_score(y_test, y_pred)"
   ]
  },
  {
   "cell_type": "markdown",
   "id": "cba72e22",
   "metadata": {
    "pycharm": {
     "name": "#%% md\n"
    }
   },
   "source": [
    "#### O classificador teve um bom desempenho pois ambas as classes - normal e breast_adenocarcinoma - tiveram um boa acurácia, sem desbalanceamento."
   ]
  },
  {
   "cell_type": "markdown",
   "id": "b450ef3f",
   "metadata": {
    "pycharm": {
     "name": "#%% md\n"
    }
   },
   "source": [
    "## e) Fazendo uso de bibliotecas (por exemplo, scikit-learn https://scikit-learn.org/stable) utilize o método k-means para analisar o dataset de estudo (preparado no item 'a') considerando os seguintes cenários: existência de 2 grupos; 3 grupos e 4 grupos. Para cada um dos cenários reporte o número de amostras presentes de cada grupo."
   ]
  },
  {
   "cell_type": "code",
   "execution_count": 13,
   "id": "30743aad",
   "metadata": {
    "pycharm": {
     "name": "#%%\n"
    }
   },
   "outputs": [
    {
     "name": "stdout",
     "output_type": "stream",
     "text": [
      "{0: 99, 1: 103}\n",
      "{1: 65, 0: 85, 2: 52}\n",
      "{0: 59, 1: 80, 2: 62, 3: 1}\n"
     ]
    }
   ],
   "source": [
    "for n_groups in [2, 3, 4]:\n",
    "    print(dict(Counter(KMeans(n_clusters=n_groups, random_state=42).fit_predict(X_train))))"
   ]
  }
 ],
 "metadata": {
  "kernelspec": {
   "display_name": "Python 3 (ipykernel)",
   "language": "python",
   "name": "python3"
  },
  "language_info": {
   "codemirror_mode": {
    "name": "ipython",
    "version": 3
   },
   "file_extension": ".py",
   "mimetype": "text/x-python",
   "name": "python",
   "nbconvert_exporter": "python",
   "pygments_lexer": "ipython3",
   "version": "3.9.10"
  }
 },
 "nbformat": 4,
 "nbformat_minor": 5
}