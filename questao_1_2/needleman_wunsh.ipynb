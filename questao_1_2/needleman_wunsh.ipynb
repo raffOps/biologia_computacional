{
 "cells": [
  {
   "cell_type": "code",
   "execution_count": 1,
   "id": "d1174093",
   "metadata": {},
   "outputs": [
    {
     "name": "stdout",
     "output_type": "stream",
     "text": [
      "Requirement already satisfied: numpy in /opt/conda/lib/python3.9/site-packages (1.21.5)\r\n"
     ]
    }
   ],
   "source": [
    "!pip install numpy\n",
    "import numpy as np"
   ]
  },
  {
   "cell_type": "code",
   "execution_count": 2,
   "id": "ed02835a",
   "metadata": {},
   "outputs": [],
   "source": [
    "def parse_sample(sample_name: str) -> str:\n",
    "    sample = open(f\"samples/{sample_name}.txt\")\n",
    "    parsed_sample = sample.read().replace(\"\\n\", \"\")\n",
    "    return parsed_sample"
   ]
  },
  {
   "cell_type": "markdown",
   "id": "7f6e233d",
   "metadata": {},
   "source": [
    "## Questão 1-a) Implemente o algoritmo de Needleman-Wunsch para alinhamento global"
   ]
  },
  {
   "cell_type": "code",
   "execution_count": 3,
   "id": "26804a69",
   "metadata": {},
   "outputs": [],
   "source": [
    "def needleman_wunsh(sample1, sample2, match=2, mismatch=-2, gap=-3) -> tuple[int, np.ndarray]:\n",
    "    \n",
    "    matrix = np.zeros([len(sample2)+1, len(sample1)+1], int)\n",
    "    matrix[0, 1:] = [gap * (idx+1) for idx, _ in enumerate(sample1)]\n",
    "    matrix[1:, 0] = [gap * (idx+1) for idx, _ in enumerate(sample2)]\n",
    "    for i in range(1, matrix.shape[0]):\n",
    "        for j in range(1, matrix.shape[1]):\n",
    "            matrix[i, j] = max(\n",
    "                                matrix[i-1, j-1] + \n",
    "                                    (match if sample2[i-1] == sample1[j-1] \n",
    "                                     else mismatch),\n",
    "                                matrix[i-1, j] + gap,\n",
    "                                matrix[i, j-1] + gap\n",
    "                              )\n",
    "    \n",
    "    return matrix[-1, -1], matrix\n",
    "    "
   ]
  },
  {
   "cell_type": "markdown",
   "id": "250a9313",
   "metadata": {},
   "source": [
    "## Backtracking"
   ]
  },
  {
   "cell_type": "code",
   "execution_count": 4,
   "id": "42209693",
   "metadata": {},
   "outputs": [],
   "source": [
    "def get_backtracking(sample1: list[str], sample: list[str], matrix: np.ndarray) -> list[list[str]]:\n",
    "    sample1_aligned = []\n",
    "    sample2_aligned = []\n",
    "    match_mismatch = []\n",
    "    i, j = matrix.shape\n",
    "    i -= 1\n",
    "    j -= 1\n",
    "    direcao = []\n",
    "    while True:\n",
    "        #print(f\"amostra1: {sample1[j-1]} amostra2: {sample2[i-1]}\", end=\"    \")\n",
    "        if i > 0 and j > 0:\n",
    "            upper = matrix[i-1, j]\n",
    "            diagonal = matrix[i-1, j-1]\n",
    "            left = matrix[i, j-1]\n",
    "\n",
    "            if sample1[j-1] == sample2[i-1]:\n",
    "                sample1_aligned.insert(0, sample1[j-1])\n",
    "                sample2_aligned.insert(0, sample2[i-1])\n",
    "                match_mismatch.insert(0, \"*\")\n",
    "\n",
    "                i -= 1\n",
    "                j -= 1\n",
    "\n",
    "                #print(f\"caso 0 esquerda:{left} cima:{upper} diagonal: {diagonal}   direcao: diagonal\")\n",
    "\n",
    "            elif  (diagonal >= left and diagonal >= upper):\n",
    "                sample1_aligned.insert(0, sample1[j-1])\n",
    "                sample2_aligned.insert(0, sample2[i-1])\n",
    "                match_mismatch.insert(0, \"|\")\n",
    "\n",
    "                i -= 1\n",
    "                j -= 1\n",
    "\n",
    "                #print(f\"caso 1 esquerda:{left} cima:{upper} diagonal: {diagonal}   direcao: diagonal\")\n",
    "\n",
    "\n",
    "            elif (left > diagonal and left > upper):\n",
    "                sample1_aligned.insert(0, sample1[j-1])\n",
    "                sample2_aligned.insert(0, \"-\")\n",
    "                match_mismatch.insert(0, \" \")\n",
    "\n",
    "                j -= 1\n",
    "                #print(f\"caso 2 esquerda:{left} cima:{upper} diagonal: {diagonal}   direcao: esquerda\")\n",
    "\n",
    "            else:\n",
    "                sample1_aligned.insert(0, \"-\")\n",
    "                sample2_aligned.insert(0, sample2[i-1])\n",
    "                match_mismatch.insert(0, \" \")\n",
    "\n",
    "                i -= 1\n",
    "                direcao.append(\"U\")\n",
    "\n",
    "                #print(f\"caso 3 esquerda:{left} cima:{upper} diagonal: {diagonal}   direcao: cima\")\n",
    "\n",
    "        elif j > 0:\n",
    "                sample1_aligned.insert(0, sample1[j-1])\n",
    "                sample2_aligned.insert(0, \"-\")\n",
    "                match_mismatch.insert(0, \" \")\n",
    "\n",
    "                j -= 1\n",
    "                direcao.append(\"L\")\n",
    "\n",
    "                #print(f\"caso 4 esquerda:{left}  direcao: esquerda\")\n",
    "\n",
    "        elif i > 0:\n",
    "            sample1_aligned.insert(0, \"-\")\n",
    "            sample2_aligned.insert(0, sample2[i-1])\n",
    "            match_mismatch.insert(0, \" \")\n",
    "\n",
    "            i -= 1\n",
    "            direcao.append(\"U\")\n",
    "\n",
    "            #print(f\"caso 5 cima:{upper} direcao: cima\")\n",
    "\n",
    "        else:\n",
    "            break\n",
    "            \n",
    "            \n",
    "    return sample1_aligned, match_mismatch, sample2_aligned"
   ]
  },
  {
   "cell_type": "markdown",
   "id": "ecd2aa0d",
   "metadata": {},
   "source": [
    "## Questão 1-b e 1-c"
   ]
  },
  {
   "cell_type": "code",
   "execution_count": 5,
   "id": "eb3412b8",
   "metadata": {},
   "outputs": [
    {
     "name": "stdout",
     "output_type": "stream",
     "text": [
      "Amostra 1: korea | Amostra 2: porto_rico | Score: 1198 | Identidade: 69%\n",
      "\n",
      "ATG--GCCATCATTTATCTCATACTCCTGT-T-CACA-GCAG-TG-AGGGGG-GAC-CAGATATGCATTGGATACCATGCCAATAATTCCACAGAAAAGGTCGACACAATTCTAGAGCGGAATGTCACTGTGACTCA-TGCCAAGGACATCCTTGAGAAGAC--CCATAACGGAAAGCTATGCAAACTAAACGGAATC-CCTCCACTTGAACTAGGGGAC-TGTAGCATTGCCGGATGGCTCCTT-GGAAATCCAGAATGTGAT--AG-GCTTCTAAGTGTGCCAGAATGGTCCTATATAATGGAGAAAGA--AAACCC-GAGATACAGTTTGTGTTACCCAGGCAGC-TTCAAT-GACTATGAAGAATTGAAACATCTCCTCAGCAGC-GTGAAA-CATTTTGAGAAAG-TT--AAGAT-TTTGCCCAAAGATAG---ATGGA-C-A-CAGCAT-ACAA-CAACTGGAGGTTCATGG--GCCTGCGCGG-TGTCAGGTAAACCATCA-TTCTT-CAGGAACATGGTCTGGCTGACACGTA-AAGGAT--CAAATTATCCG--GTTGCCAAAGGA-TCGTAC---AACAATACAAGCGGAGAACAAATGCTAATAATTTGGGG-AGTGCACCATCC-TAATGATGAGGCAGAA-CAA-AGAGCATTGTACCAGAATGTGGGAAC-C-TATGTTTCCGTAGCCACATCAACATTGT-ACAAAAGGTCAATCCCAGAAATAGCAGCAAGGCCTAAAGTGAATG-GA-CTAGGACGTAGAATGGAATTCTCT--TGGACCCT-CTTGGATATGTGG-GACACCATAAAT-TTTGAGAGCAC-TGGTAATCTAGTTGCACCAGA-GTATGGGTTCAAAATATCGAAAAGAGG-TA-GT-TCAGGGATCATGAAGACAGAAGGAA-CACTTG-A-GAACTGTGAA-ACCAAATGCCAAACTCCTTTGGGAGCAATAAATACAACA--CTACCTTTTCACAATGTCCACCCACTGACAATAGGTGAATGCCCCAAATATGTAAA-A-TCGGAGAAATTG-GTCTTAGCAACAGGACTAAGGAATGTTCC--CCAGATTGAATCAAGAGGAT-TGTTTGGGGCAATAGCTGGTTTTATAGAAGGAGGATGGCAA-GGAATGGTTGATGGTTGGTATGGATACCATCA-CAGCAATGACCAGGGATCAGGGTATGCAGCAGA-CAAAGAATCCACTCAAAAGG-CATTTAATGGAATCACCAACAAGGTAAATTCTGTGATTGA-AAAGATGAACACCCAATTTGA-AGCTGTTGGG-AAAGAATTCAGTAACTTAGAGAAAA-GACTGGAGAACTTGAAC-AAAAAGATGGAAGACGGGTTTCTAGATGTGTGGACATACAATGCAGAGCTTC-TAGTTCTGA-TGGAAAATGAGAGGACACTTGACTTT-CATGATTCTAATGTCAAGAATCTGTATGATAAAGTCAGAATG-CAGCTGAGAGAC-AACGTCAAAGAACTAGGAAATGGATGTTTTGAATTTTATCACAAATGTGACAATGAATGCATGGATAGTGTGAA-AAACGGGACATATGATTATCCCAAGTATGAAGAAGAATCTAAACTA-AATAGAAATGAAATCAA-AGGG-GTAAAATTGAGCAGC-ATGGGGGTTTATCAAATCCTTGCCATTTA-TGCTACAGTAG-CAGGTTCTCT-GT-CAC-TGGCAATCATGA-TGGCTGGG--ATCTCTTTCTGGATGTGCTCCAACGGGTCTCTGCAGTGCAGAATCTGCATATGA\n",
      "\n",
      "***  *|**| *||** **||*|**||*|* * ***| **** ** **||*| *** ** *****|**|**|********|**|*****|**|**|*||**|******|*|**|***||******|**|*****|** * *|||||**|*|**|  ******  ***|********|*****|*|*|****|*****| ** *****||**|* *****| ****|***|*********** *** *****|********|**|  *| *****| ****|*  *||*********|**  **|*****|*  ****|* **** *||*||*|*****|***** **| *** ** ********|**||***|||*|*|||*|***| * ***||* ****|   ***** **  ** ** *** ********|**   ****| * * ** **| **** ***| *** **| *|**  **|***|*|| ** *|**|***  *|** **|** ***|**||**|*|********| * * *****|  *||* **|**|  *|**| ***  * **|**|   *****|* *** *** **|**|*|**||**|*|***** *|* **|**|** *| *|*| **||**|* *** ***||**| **|*******||  **| * *****|**|****||**|**** ***|* ***||**|*||*|***|**********|***|**|***** ** * ** *|**|||*|**|** ***|*|* *  ******|* **|| * *|||** *****|** *** ****** ***| ***|******|*|****** * *****||***||*|  * **||***** *| *| **|**|*****|*|||** **|*|* **| ** * **| *** ** **|**|**|*****|**||*******|** ** ***|**  **|*****|**|***|*|******|*|********|**|*****|*****|**|*| * * *|| ****** *||*| *||**************||****  **  ***|****|***** * *|*****|**|**|**|********|*****|****** *| ******|*|*****|*****|**|**|***** *** *****|***********|********|** ****|**| ***|*****|* ** ****|**|**|**|********|**|*****|**|** *** *******||*****| * ***** **** **********||**|*****|**** ** ****|**|**|**| ******|* **|**|**|*****|**||*|********|********| **| ******* * **********|*****|**|** *** *****|**|*****|**************|*****|*|** * **||*|* ***| **|*|*******|*|*****************|**|**|*****|********************|***** ** ***|*****|**************|***||******|** ***|*| **|**||*  ***|||* *|** **|****** *|*|* ******|*|*****|**|**|**|**|** * *|**|**|* ** ****|** ** *|| ***   ** *|| ***  ***  ***||************|**|**|**|***|*************|*****|***\n",
      "\n",
      "ATGAAGGCAA-ACCTA-CTGGTCCTGTTATGTGCACTTGCAGCTGCAGATGCAGACACA-ATATGTATAGGCTACCATGCGAACAATTCAACCGACACTGTTGACACAGTGCTCGAGAAGAATGTGACAGTGACACACT-CTGTTAACCTGCTC--GAAGACAGCCACAACGGAAAACTATGTAGATTAAAAGGAATAGCC-CCACTACAATT-GGGGAAATGTAACATCGCCGGATGGCT-CTTGGGAAACCCAGAATGCGACCCACTGCTTCC-AGTGAG--ATCATGGTCCTACAT--TGTAGAAACACCAAACTCTGAGA-ATGGAATATGTTATCCAGG-AGATTTC-ATCGACTATGAGGAGCTGAGGGAGCAATTGAGCT-CAGTGTCATCATTC---GAAAGATTCGAA-ATATTT-CCCAAAGAAAGCTCATGGCCCAACCA-CAACACAACCAAA-GGA-GTA-ACGGCAGCATGCTCCCATG-CGGGGAAA--AGCAGTTTTTACAGAAATTTGCTATGGCTGACG-G-AGAAGGAGGGCTCA-TACCCAAAGCTGA-AAA--ATTCTTATGTGAACAAGA-AAG-GGA-AAGAAGTCCTTGTACTGTGGGGTATT-CATCACCCGTC-TAAC-AGTAAGGATCAACAGAATATC-TATCAGAATGAA--AATGCTTATGTCTCTGTAGTGACTTCAA-ATTATAACAGGAGATTTACCCCGGAAATAGCAGAAAGACCCAAAGT-AA-GAGATCAAGCTGGGAGGAT-GAACTAT-TACTGGACCTTGCTAA-A-ACCCGGAGACACAAT-AATATTTGAG-GCAAATGGAAATCTAATAGCACCA-AGGTATGCTTTCGCAC--T-GAGTAGAGGCTTTGGGTCCGGCATCATCACCTCA-AACGCATCAA-TGCATGAG-TGT-AACACGAAGTGTCAAACACCCCTGGGAGCTAT-AA-ACAGCAGTCTCCCTTTCCAGAATATACACCCAGTCACAATAGGAGAGTGCCCAAAATACGTCAGGAGT-GCC-AAATTGAGGATG-GTTACAGGACTAAGGAACATTCCGTCC--ATTCAATCCAGAGG-TCTATTTGGAGCCATTGCCGGTTTTATTGAAGGGGGATGG-ACTGGAATGATAGATGGATGGTACGGTTATCATCATCAG-AATGAACAGGGATCAGGCTATGCAGCGGATCAAAAAAG-CACACAAAATGCCA-TTAACGGGATTACAAACAAGGTGAACTCTGTTATCGAGAAA-ATGAACATTCAATTC-ACAGCTG-TGGGTAAAGAATTCAACAAATTAGAAAAAAGGA-TGGAAAATTTAAATAAAAAAGTT-GATGATGGATTTCTGGACATTTGGACATATAATGCAGAA-TTGTTAGTTCT-ACTGGAAAATGAAAGGACTCTGGA-TTTCCATGACTCAAATGTGAAGAATCTGTATGAGAAAGTAAAAA-GCCAATTAA-AGAATAATGCCAAAGAAATCGGAAATGGATGTTTTGAGTTCTACCACAAGTGTGACAATGAATGCATGGAAAGTGT-AAGAAATGGGACTTATGATTATCCCAAATATTCAGAAGAGTC-AAAGTTGAACAGGGA--AAAGGTAGATGGAGTGAAATTG-GAATCAATGGGGATCTATCAGATTCTGGCGATCTACT-CAACTGTCGCCA-GTTCACTGGTGCTTTTGG---TC-TCCCTGG--GGGCAATCAGTTTCTGGATGTGTTCTAATGGATCTTTGCAGTGCAGAATATGCATCTGA\n",
      "\n",
      "--------------------------------------------------------------------------------\n",
      "\n",
      "Amostra 1: korea | Amostra 2: guangdong | Score: 1380 | Identidade: 71%\n",
      "\n",
      "ATGGCCATCATTTA-T-CTCATACTCCTGTTCAC-AG-CAG---TG--AGGGGGGACCAGATATGCATTGGATACCATGCCAATAATTCCACAGAAAAGGTCGACACAATTCTAGAGCGGAATGTCACTGTGACTCATG-CCAAGGACATCCTTGAGAAGACCCATAACGGAAAGCTATGCAAACTAAACGGAATCCCTCCACTTGAACTAGGG-GACTGTAGCATTGCCGGATGGCTCCTTGGAAATCCAGAATGTGAT-AGGC-TTC-T-AAGTGTGCCAGAATGGTCCTATATAATGGAGAAAGAAAACCCGAGATACA-GTT-TGTGTTACCCAGGCAGC-TTCAATGACTATGAAGAATTGAAACATCTCCTCAGCAGCGTGAAA-CATTTTGAGAAAGTTAAGATTTTGCCC-AAAGATAGATGGACACAG-CAT-A--CAACAACTGGAGGTTCA--TGGGCCTG-CGCGGTGTCA-GGTAAA-CCATCATTCTTCAGGAACATGGTCTGGCTGA-CACGTAAAGGATCAAATT-AT-CCGGTTGCC-AA-AGGATCGTACAACAATA-CAAGCGGAGAACAAATGCTAATAATTT-GGGGAGTGCACCATCCTAATGATGAGGCAGAACA-A-AGAGCATTGTACCAGAATGTGGGAACCTATGTTTCCGTAGCCACATCAACATTGTACAAAAGGTCAATCCCAGAAATAGC-AGCAAGGCCTAAAGTGAATGGACTAGGACGTAGAATGGAATTCTCT-TGGACCCTCTTGGATATGTGGGACACCATAAATTTTGAGAGCACTGGTAATCT-AGTTGCACCAGAGTATGGGTTCAAAATA-TCGA-AAAGAGGTAGTTCAGGGATCATGAAGACAGAA--GGAACACTTGAG-AACTGTGAA-ACCAAATGCCAAACTCCTTTGGGAGCAATAAA-TACAAC-ACTACCTTTTCACAATGTCCACCCACTGACAATAGGTGAATGCCCCAAATATGTAAAATCGGAGAAATTGGT-CTTAGCAACAGGACTAAGGAATGTTCCC-CAGATTGA-ATC--AAG-----AG-GAT---TGTTTGGGGCAATAGCTGGTTTTATAGAAGGAGGATGGCAAGGAATGGTTGATGGTTGGTATGGATACCATCACAGCAATGACCAGGGATCAG-GG-TATGCAGCAGACAAAGAATCCACTCAAAAGGCATTTA-ATGGAATCACCAACAAGGTAAATTCTG-TGATTGA-AAAGATGAACACCCAATTTGAAGCTGTTGGGAAA-GAATTCAGTAACTTAGAGAAAAGAC--TGGAGAACTTGAACAAAAAGATGGAAGACGGGTTTCTAGATGTGTGGACATACAATGCAGAGCTTCTAGTTCTGATGGAAAATGAGAGGACACTTGACTTTCATGATTCTAATGTCAAGAATCTGTATGATAAAGTCAGAATGCAGCTGAGAGACAACGTCAAAGAA-CTAGGAAATGGATGTTTTGAATTTTATCACAAATGTGACAATGAATGCATGGATAGTGTGAAAAACGGGACATATGATTATCCCA-AGTATGAAGAAGAATCTAA-ACTAAATAGAAATGAAATCAAAG-GG-GTAAAATTGAGCAGC-ATGGGGGTTTATCAAATCCTTGCC-ATTTATGCTACAGTAGCAG-GTTCTCT-GTCACTGGCAATCATGATGGCTGGGATCTCTTTCTGGATGTGCTCCAACGGGTC-TCTGCAGTGCAGAATCTGCATATGA\n",
      "\n",
      "****||*||*  ** * **  * **|** *|**| ** ***   **  *|||*|**|*****|********|********|**|**|**|*****||****|********||*|**|||***|**|*****|**|**** **** *****|**|**|*****|**|**|**|*****|***|*|*****|***|*||||**|**| *||*|*|* **|*****||*|**|***********|*****|**|  ***** * *|*| *** * ** ******|********|**|***|*******|*||*||** **||* * *|| *|***********| *| *****|************|*******|**||*|*****||| *** ************|**|****||*|*** ****|*|| ***|* **| *** *  *||**|*|** ***| *  *||**|** * *| *||** **|*|| ** **|**|*****|**||****|*****|* **|  ****|* **| *| ** **||||||| ** ****|* *****|**** ***|*| ****|*||*||**|**|*|* *****|* ****************|******|** * *|*** *| **|**|**|||||||**|**||*******|*||*********|**|**|*|**|*|||*|*********** * *|**|**|*****|**|**|*|*|*||*|********|**** * *****||*|**||*|||*|||**||****|*****|*****|*|***|***|* * ****|*****|****||*|******| **|* ****|** *| ****||**|*****|*||***  ****|*  ** * *****| ** *****|**|********||****|**|***** * *|*| * *|**|**|*****||*|*****|**|**|**|**|*****************|*****||*|*|***|** *** **|**|*****|**|***|| *** ****||** *||  ***     ** **|   *|*****|**|*****|***********|***********|********|**************|*****|**|********|*****|  ** ** **|**|***************************| ** *****|*******|*****|**|** * *|***** *** ********|**|*****|**|*** ****| *****|*|****** * ****|**|  *|*****|**|*****||*************|**|********|*****|**|*****|**|*****|*****|**************|**|**|***********|**|***********|**|*****|**|***|**|*|*****|**|**|**|* *****|* **|**|*****|*****|**|**|**************|********|*****|*****|********|**|*****|** ***| *****||*******|* ** ******|***|*|*****  *** ** ********* *|*|* *****|||***|*****|* **|* ******|*|*****|** * ****|** * **************|*|*****||*|*****|**************|**|** * *|**|********|*****|*|*\n",
      "\n",
      "ATGGAGAAAA--TAGTGCT--T-CTTCT-TGCAATAGTCAGTCTTGTCAAAAGTGATCAGATTTGCATTGGTTACCATGCAAACAACTCGACAGAGCAGGTTGACACAATAATGGAAAAGAACGTTACTGTTACACATGCCCAA-GACATACTGGAAAAGACACACAATGGGAAGCTCTGCGATCTAAATGGAGTGAAGCCTCTC-ATTTTGAGAGATTGTAGTGTAGCTGGATGGCTCCTCGGAAACCCT--ATGTG-TGACGAATTCATCAA-TGTGCCGGAATGGTCTTACATAGTGGAGAAGGCCAGTCC-AGCCA-ATGACCTCTGTTACCCAGGG-GATTTCAACGACTATGAAGAACTGAAACACCTATTGAGCAGAAC-AAACCATTTTGAGAAAATTCAGATCATCCCCAAAAGTTCT-TGGTC-CAATCATGATGCCTCATCAGG-GGTG-AGCTCAGCATGTC-CA-TACCATGGGAGGTCC-TCCTTTTTCAGAAATGTGGTATGGCTTATCAA--AAAGAA-CAG-TGCATACCCAACAATAAAGAGGAGC-TACAATAATACCAACCA-AGAAGATCTTTTAGTACTGTGGGGGATT-CACCATCCTAATGATGCGGCAGAGCAGACAAAGC-TC-TATCAAAACCCAACCACTTACATTTCCGTTGGAACATCAACACTGAACCAGAGATTGGTTCCAGAAATAGCTA-CTAGACCCAAAGTAAACGGGCAAAGTGGAAGAATGGAGTTCT-TCTGGACAATTTTAAAGCCGAATGATGCCATCAATTTCGAGAGTAATGGAAATTTCA-TTGCTCCAGAATATGCATACAAAATTGTCAAGAAAGGGG-AC-TCAGCAATTATGAAAAGTGAATTGGAATA--TG-GTAACTGC-AACACCAAGTGTCAAACTCCAATGGGGGCGATAAACT-CTAGTA-TGCCATTCCACAACATACACCCCCTCACCATCGGGGAATGCCCCAAATATGTGAAATCAAACAGATTAGTCCTT-GCGACTGGACTCAGAAATAC-CCCTCAGAGAGAGAGAAGAAGAAAAAAGAGAGGACTATTTGGAGCTATAGCAGGTTTTATAGAGGGAGGATGGCAGGGAATGGTAGATGGTTGGTATGGGTACCACCATAGCAATGAGCAGGGG--AGTGGATACGCTGCAGACAAAGAATCCACTCAAAAGGCAA-TAGATGGAGTCACCAATAAGGTCAACTC-GATCATTGACAAA-ATGAACACTCAGTTTGAGGCCGTT-GGAAGGGAATTTAATAACTT-G-GAAAGGAGGATAGAGAATTTAAACAAGCAGATGGAAGACGGATTCCTAGATGTCTGGACTTATAATGCTGAACTTCTGGTTCTCATGGAAAATGAGAGAACTCTAGACTTTCATGACTCAAATGTCAAGAACCTTTATGACAAGGTCCGACTACAGCTTAGGGATAATG-CAAAGGAGCTGGGTAATGGTTGTTTCGAGTTCTATCACAAATGTGATAATGAATGTATGGAAAGTGTAAAAAACGGAACGTATGACTA-CCCGCAGTATTCAGAAGAAGC-AAGACTAAACAGAGAGGAAAT--AAGTGGAGTAAAATTG-GAATCAATGGGAACTTACCAAATAC-TGTCAATTTATTCAACAGTGGC-GAGTTCCCTAG-CACTGGCAATCATGGTAGCTGGTCTATCTTTATGGATGTGCTCCAATGGATCGT-TACAATGCAGAATTTGCATTTAA\n",
      "\n",
      "--------------------------------------------------------------------------------\n",
      "\n"
     ]
    },
    {
     "name": "stdout",
     "output_type": "stream",
     "text": [
      "Amostra 1: porto_rico | Amostra 2: guangdong | Score: 1048 | Identidade: 67%\n",
      "\n",
      "ATGAAGGCAAACCTACTGGTCCTGTTATGTGCACTTG-CAG-C-TG-CAGATGCAGA-CACAATATGTATAGGCTACCATGCGAACAATTCAACCGA-CACTGTTGACACAGTGCTCGAGAAGAATGTGACAGTGACACACT-CTGTTA-ACCTGCTCGAAGACAG-C-CACAACGGAAAACTATGTAGAT-TAAAAGGAAT--AGCCCCACTACAATTGGGGAAA-TGTAACATCGCCGGATGGCTCTTGGGAAACCCAGAA-TGCGACCCACTGCTTCCA-GTGA--GATCATGGTCCTACATTGTAGA-AACACCAAACTCTGAGAATGGAA-TATGTTATCCAGGAGATTTCATCGACTATGAGGAGCTGAGGGAGCAATTGAGCTCAGTGTCAT--CATTC-GA-AAGATTCGAAAT-ATTTCCCAAAGAAAGCTCATGGCCCAACCACAACACAAC-CAA-AGGAGTAACGG-CAGCATGCTCCCATGCG--GGGAAAAGCAG-TTTTTACAGAAATTTGCTATGGCTGA-CGGAGAAGGAGGGCT-CATACCCAAAGCTGAA-AAATTCTTATGTGA-ACAAGAA-AGGGA--AAGAAG-TCC-TT-GTACTGTGGGGTATTCATCACCCGTC-TAA--CAGTAAGGATCA-ACAGAATATCTATCAGAATGAAAATGCTTATGTCTCTGTAGTG-ACTTCAA-ATTATAA-CAGGAGATTTACCCCGGAAATAGCAGAA-AGACCCAAAGTAAGA-GATC-AAGCTGGGAGGATGAACTA-TTACTGGACC-TTGCTAAAACCCGGA-GACACAATAATATTT-GAG-GCAAATGGAAATCTAATAGCACCAAGG-TATGCTTTCGCACTGAGT-AGAGGCTTTGGGTC-CGGC-ATCATCACC--TCAAACGCATCA-ATGCATGAGTGTAACACGAAGTGTCAAACACCCCTGGGAGCTATAAACAGC-AGTCTCCCTTTCCAGAATATACACCCAGTCACAATAGGAGAGTGCCCAAAATACGTCAGGAGTGCCAAATTGAGGA-TGGTTAC-A--GGACTAAGGAACATTCCG-TCC-ATTCA-ATCC--AG-----AG-GT---CTATTTGGAGCCATTGCCGGTTTTATTGAAGGG-GGATGGACT-GGAATGATAGATGGATGGTACGGTTATCATCATCAG-AATGAACA-GGGA-TCAGGCTATGCAGCGGATCAAAAAAG-CACACAAAATGCCATTA-ACGGGATT-ACAAACAAGGTGAACTCTGTT-ATCGAGAAAATGAACATTCAATTCACA-GCTGTGGGTAAA-GAATTCAACAAATTAGAAAAAAGGATGGAAAATTTAAATAAAAAAGTT-GATGATGGATTTCTGGACATTTGGACATATAATGCAGAA-TTGTTAGTTCTAC-TGGAAAATGAAAGGACTCTGGA-TTTCCATGACTCAAATGTGAAGAATCTGTATGAGAAAGTAAAAAGCCAA-TTAAAGAATAATGCCAAAGAAA-TCGGAAATGGATGTTTTGAGTTCTACCACAAGTGTGACAATGAATGCATGGAAAGTGTAAGAAATGGGACTTATGATTATCCCAAA-TATTCAGAAG-AGTCAA-AGTTGAACAGGGA--AAAGGTAGA-TGGAGTGAAATTGGAATCAATGGGGATC-TATCAGATTCTGGCGATCTACTCAACTGTCGCCAGTTCACTGGTGCTTTTGGTCTCCC-TGGGGGCAA-TC-AG-TTTCTGGATGTGTTCTAATGGATCTTTGCAGTGCAGAATATGCATCTGA\n",
      "\n",
      "***|**| ***  **|**|*|** *| * ****|*|* *** * ** **|*|*| ** **|*|* **|**|**|********|*****|**|**|** **| *********|*||*|**|*****|**|**|**|***** * *||| * **|*|**|*** * ** * *****|**|**|**|**| *** ****|***|*  ****|  ** **|**|*|**|* ****|||*|**|*********|*|********| *| **|***||*|* *|**|* ***|  **  ******|*****|**|** **||***||* *|*||*** **| *|*****|*****|*******|*********|**|****|||*|*|******  ***|| **|  ****| ** **|**** *|** **| ***  * ****|**|***|****|**||*||*  * **| ***|**|* *| ******* * ****|*|  ****||||*|| ***** *******|**|*******|* *||* ***|*||* * ******* ** *  ** ***|    *|*|*| ****|** *|||*  ****** **| ** ***********|*****|**|** *| *|*  *|*| * **|** *** **||*******|**|||**|||****||*|**|**|* * **|**** *|*| ** ** ******||||**|********| *| ************* * *||* *** ***|**|***|*|*| ** ******| **| ****| ***|* **||*|**|* **** *** *| *********|*|**|**|** **| *****|*|*||*|*| ** * **|||| ***|* *|** **|**|*||  *|**||*|*  * ***| *|*|**|*****|***********|**||****|**|******| * ***|*|**|*****|**|********||****|**|**|**|*****|*****|**|*| * *  ****||**||* *||**|* *  *****|* *** **|**| **| *|||* *|||  **     ** *|   ***********|**|**|********|* **** ****** *| ******|*******|*****|**|**|**|*** ** *****|** **** *  **|**|**|**|** ****|**| ***|*****|**|* ** *| ***|* **|**|*****|***** *|* **|**|**********|***|**|| * **|**|** **| *****|**|**|**|****||*****|**|********|**|| **|* **|**|*****|**|**||*|*****|********|*** **|*| ***** * **********|**|*****|** *** **************|*****|**|*****|**|**|||*|||**| ***||* ****** *****|*| *|**|*****|*****|********|*****|*****|********|*************|***|**|**|*****|** ***||* ********** ** *** *|*| *****|**  ***  ** * ******|*****************|* * **|**|**|***|*|**|**|*****|**|**|*****|**|*||*   *** *|||* ***||**|| ** *| ***|********|**|********|**|**|********|*****|*|*\n",
      "\n",
      "ATGGAGA-AAA--TAGTGCTTCT-TC-T-TGCAATAGTCAGTCTTGTCAAAAGT-GATCAGATT-TGCATTGGTTACCATGCAAACAACTCGACAGAGCAG-GTTGACACAATAATGGAAAAGAACGTTACTGTTACACA-TGCCCA-AGACATACTGGAA-A-AGACACACAATGGGAAGCTCTGC-GATCTAAATGGAGTGAAGCCT--CT-CATTTTGAGAGATTGTAGTGTAGCTGGATGGCTCCTCGGAAACCCT-ATGTGTGACGAATT-CATCAATGTGCCGGA--ATGGTCTTACATAGTGGAGAAGGCCAGTC-CAGCCAAT-GACCTCTGTTACCCAGGGGATTTCAACGACTATGAAGAACTGAAACACCTATTGAG--CAGAA-CAAACCATTTTGAGAAAATTC-AGATCATC-CCC--A-AAAGTTCTTGGTCCAATCATGATGC--CTCATCAGGGGTGA-GCTCAGCATG-T-CCATACCATGGGAGGTCCTCCTTTTT-CAGAAATGTGGTATGGCTTATCAAA-AAGAACAG-TGCATACCC-AA-C--AATAAAG----AGGAGCTACAATAATACCAACCAAGAAGATCTTTTAGTACTGTGGGGGATTCACCATCC-TAATGATGCGGC-A-GAGCAGACA-AAGCTCTATCAAAACCCAACCACTTACATTTCCGTTG-GAACATCAACACTG-AACCA-GAGATTGGTTCCAGAAATAGCT-ACTAGACCCAAAGTAA-ACGGGCAAAG-TGGAAGAATGGAGTTCTT-CTGGACAATTT-TAAAG-CCGAATGATGCCATCA-ATTTCGAGAGT-AATGGAAATTTCATTGCTCC-AGAATATGCATACAAAATT-GTCA-AGAAAG-GGGACTCAGCAATTATGAAAAGTGAATTGGA--ATATGG-TAACTGCAACACCAAGTGTCAAACTCCAATGGGGGCGATAAACT-CTAGTATGCCATTCCACAACATACACCCCCTCACCATCGGGGAATGCCCCAAATATGTGAA-A-T--CAAACAGATTAGTCCTTGCGACTGGACTCA-GAA-ATACCCCTCAGAGAGAGAGAAGAAGAAAAAAGAGAGGACTATTTGGAGCTATAGCAGGTTTTATAG-AGGGAGGATGG-CAGGGAATGGTAGATGGTTGGTATGGGTACCACCAT-AGCAATGAGCAGGGGAGT--GGATACGCTGCAGA-CAAAGAATCCACTCAAAAGGCAA-TAGAT-GGAGTCACCAATAAGGTCAACTC-GATCATTGACAAAATGAACACTCAGTTTG-AGGCCGTTGG-AAGGGAATTTAATAACTTGGAAAGGAGGATAGAGAATTTAAACAAGC-AGATGGAAGACGGATTCCTAGATGTCTGGACTTATAATGCTGAACTTCTG-GTTCT-CATGGAAAATGAGAGAACTCTAGACTTT-CATGACTCAAATGTCAAGAACCTTTATGACAAGGTCCGACTACAGCTTAGGG-ATAATG-CAAAGGAGCTGGGTAATGGTTGTTTCGAGTTCTATCACAAATGTGATAATGAATGTATGGAAAGTGTAAAAAACGGAACGTATGACTA-CCCGCAGTATTCAGAAGAAG-CAAGACTA-AACAGAGAGGAAA--TA-AGTGGAGTAAAATTGGAATCAATGGGAA-CTTACCAAATACTGTCAATTTATTCAACAGTGGCGAGTTCCCTAGCAC---TGG-CAATCATGGTAGCTGGTCTATCTTTATGGATGTGCTCCAATGGATCGTTACAATGCAGAATTTGCATTTAA\n",
      "\n",
      "--------------------------------------------------------------------------------\n",
      "\n"
     ]
    }
   ],
   "source": [
    "seqs = [(\"korea\", \"porto_rico\"), \n",
    "        (\"korea\", \"guangdong\"),\n",
    "        (\"porto_rico\", \"guangdong\")]\n",
    "for sample1_name, sample2_name in seqs:\n",
    "    sample1 = parse_sample(sample1_name)\n",
    "    sample2 = parse_sample(sample2_name)\n",
    "    score, matrix = needleman_wunsh(sample1, sample2)\n",
    "    \n",
    "    sample1_aligned, match_mismatch, sample2_aligned = get_backtracking(sample1, sample2, matrix)\n",
    "    \n",
    "    identity = int(match_mismatch.count(\"*\") / len(match_mismatch) * 100)\n",
    "    print(f\"Amostra 1: {sample1_name} | Amostra 2: {sample2_name} | Score: {score} | Identidade: {identity}%\\n\")\n",
    "    \n",
    "    \n",
    "    print(''.join(sample1_aligned), end=\"\\n\\n\")\n",
    "    print(''.join(match_mismatch), end=\"\\n\\n\")\n",
    "    print(''.join(sample2_aligned), end=\"\\n\\n\")\n",
    "    \n",
    "    print(\"-\"*80, end=\"\\n\\n\")\n",
    "        "
   ]
  },
  {
   "cell_type": "markdown",
   "id": "e398df89",
   "metadata": {},
   "source": [
    "## Questão 2"
   ]
  },
  {
   "cell_type": "code",
   "execution_count": 6,
   "id": "7702c6f0",
   "metadata": {},
   "outputs": [
    {
     "name": "stdout",
     "output_type": "stream",
     "text": [
      "Score: 8 | Identitidade: 44%\n",
      "\n",
      "GCCGCCGGC\n",
      "  * **  *\n",
      "--C-CC--C\n"
     ]
    }
   ],
   "source": [
    "sample1 = \"GCCGCCGGC\"\n",
    "sample2 = \"CCCC\"\n",
    "score, matrix = needleman_wunsh(sample1, sample2, gap=-4, match=7, mismatch=-3)\n",
    "    \n",
    "sample1_aligned, match_mismatch, sample2_aligned = get_backtracking(sample1, sample2, matrix)\n",
    "identity = int(match_mismatch.count(\"*\") / len(match_mismatch) * 100)\n",
    "print(f\"Score: {score} | Identitidade: {identity}%\\n\")\n",
    "print(''.join(sample1_aligned))\n",
    "print(''.join(match_mismatch))\n",
    "print(''.join(sample2_aligned))"
   ]
  },
  {
   "cell_type": "code",
   "execution_count": null,
   "id": "8f015229",
   "metadata": {},
   "outputs": [],
   "source": []
  }
 ],
 "metadata": {
  "kernelspec": {
   "display_name": "Python 3 (ipykernel)",
   "language": "python",
   "name": "python3"
  },
  "language_info": {
   "codemirror_mode": {
    "name": "ipython",
    "version": 3
   },
   "file_extension": ".py",
   "mimetype": "text/x-python",
   "name": "python",
   "nbconvert_exporter": "python",
   "pygments_lexer": "ipython3",
   "version": "3.9.10"
  }
 },
 "nbformat": 4,
 "nbformat_minor": 5
}
